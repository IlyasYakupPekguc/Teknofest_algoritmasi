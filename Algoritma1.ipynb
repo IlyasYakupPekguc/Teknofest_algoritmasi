{
 "cells": [
  {
   "cell_type": "code",
   "execution_count": null,
   "metadata": {},
   "outputs": [],
   "source": [
    "print(\"deneme\")"
   ]
  }
 ],
 "metadata": {
  "kernelspec": {
   "display_name": "Python 3",
   "language": "python",
   "name": "python3"
  },
  "language_info": {
   "name": "python",
   "version": "3.10.9 (tags/v3.10.9:1dd9be6, Dec  6 2022, 20:01:21) [MSC v.1934 64 bit (AMD64)]"
  },
  "orig_nbformat": 4,
  "vscode": {
   "interpreter": {
    "hash": "82c4015541b754518bdd450dd003bcd74bd11c63b2075de629e57fefc6f2394f"
   }
  }
 },
 "nbformat": 4,
 "nbformat_minor": 2
}
